{
 "cells": [
  {
   "attachments": {},
   "cell_type": "markdown",
   "metadata": {},
   "source": [
    "# There even exists a transformation, which brings equal symbols closer together, it is called the Burrows-Wheeler-Transformation. The forward transformation works as follows: Let's say we have a sequence with length n, first write every shift of that string into a n x n matrix. The output contains the last matrix column.\n",
    "The first column can be acquired by sorting the last column.\n",
    "For every row of the table: Symbols in the first column follow on symbols in the last column, in the same way they do in the input string.\n",
    "You don't need to reconstruct the whole table to get the input back.\n",
    "# Goal\n",
    "The goal of this Kata is to write both, the encode and decode functions. Together they should work as the identity function on lists. (Note: For the empty input, the row number is ignored.)\n",
    "\n"
   ]
  },
  {
   "cell_type": "code",
   "execution_count": null,
   "metadata": {},
   "outputs": [],
   "source": [
    "import numpy as np\n",
    "\n",
    "def encode(s):\n",
    "    if not s: return ('', 0)\n",
    "    else:\n",
    "        f = s\n",
    "        l = []\n",
    "        \n",
    "        for i in range(len(s)):\n",
    "            w = f[-1] + f[:-1]\n",
    "            f = w\n",
    "            l.append(w)\n",
    "        l = sorted(l)\n",
    "        l_sym = np.array([list(j) for j in l])\n",
    "        \n",
    "    return (''.join(l_sym[:,-1]), l.index(s))\n",
    "\n",
    "def decode(s, n):\n",
    "    if not s: return s\n",
    "    l=['']*len(s)\n",
    "    for _ in range(len(s)):\n",
    "        l=sorted(s[i]+l[i] for i in range(len(s)))\n",
    "    return l[n]"
   ]
  }
 ],
 "metadata": {
  "language_info": {
   "name": "python"
  },
  "orig_nbformat": 4
 },
 "nbformat": 4,
 "nbformat_minor": 2
}
